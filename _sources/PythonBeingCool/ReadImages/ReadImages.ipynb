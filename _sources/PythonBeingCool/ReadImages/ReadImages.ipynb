{
 "cells": [
  {
   "cell_type": "markdown",
   "source": [
    "# Reading Images\n",
    "This code uses `OpenCV` and `PyTesseract`.\n",
    "It reads text from images.\n",
    "\n",
    "The image being read:\n",
    "![image info](./images/img.png)"
   ],
   "metadata": {
    "collapsed": false
   },
   "outputs": []
  },
  {
   "cell_type": "code",
   "execution_count": null,
   "outputs": [],
   "source": [
    "import cv2\n",
    "import pytesseract\n",
    "\n",
    "# Read image\n",
    "path = \"images/img.png\"\n",
    "img = cv2.imread(path)\n",
    "\n",
    "text = pytesseract.image_to_string(img)\n",
    "print(text)\n"
   ],
   "metadata": {
    "collapsed": false,
    "pycharm": {
     "is_executing": true
    }
   }
  }
 ],
 "metadata": {
  "kernelspec": {
   "display_name": "Python 3",
   "language": "python",
   "name": "python3"
  },
  "language_info": {
   "codemirror_mode": {
    "name": "ipython",
    "version": 2
   },
   "file_extension": ".py",
   "mimetype": "text/x-python",
   "name": "python",
   "nbconvert_exporter": "python",
   "pygments_lexer": "ipython2",
   "version": "2.7.6"
  }
 },
 "nbformat": 4,
 "nbformat_minor": 0
}
