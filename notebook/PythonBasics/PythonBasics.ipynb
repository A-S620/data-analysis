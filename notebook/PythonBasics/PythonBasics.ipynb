{
 "cells": [
  {
   "cell_type": "markdown",
   "source": [
    "# Python Basics\n",
    "- Python is ** dynamically typed**\n",
    "    - Type given at the time of assignment\n",
    "- Python is strongly typed\n",
    "    - You can't change the type\n",
    "- You can use the variable name for a different type of object."
   ],
   "metadata": {
    "collapsed": false
   }
  },
  {
   "cell_type": "code",
   "execution_count": null,
   "outputs": [],
   "source": [
    "\n",
    "test = \"Hello\"\n",
    "\n",
    "print(test)\n",
    "\n",
    "test = 123\n",
    "\n",
    "print(test)\n"
   ],
   "metadata": {
    "collapsed": false,
    "pycharm": {
     "is_executing": true
    }
   }
  }
 ],
 "metadata": {
  "kernelspec": {
   "display_name": "Python 3",
   "language": "python",
   "name": "python3"
  },
  "language_info": {
   "codemirror_mode": {
    "name": "ipython",
    "version": 2
   },
   "file_extension": ".py",
   "mimetype": "text/x-python",
   "name": "python",
   "nbconvert_exporter": "python",
   "pygments_lexer": "ipython2",
   "version": "2.7.6"
  }
 },
 "nbformat": 4,
 "nbformat_minor": 0
}
