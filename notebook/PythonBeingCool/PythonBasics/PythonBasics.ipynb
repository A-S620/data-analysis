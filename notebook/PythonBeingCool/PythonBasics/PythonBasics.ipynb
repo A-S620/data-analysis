{
 "cells": [
  {
   "cell_type": "markdown",
   "metadata": {},
   "source": [
    "# Python Basics\n",
    "- Python is ** dynamically typed**\n",
    "    - Type given at the time of assignment\n",
    "- Python is strongly typed\n",
    "    - You can't change the type\n",
    "- You can use the variable name for a different type of object."
   ]
  },
  {
   "cell_type": "markdown",
   "metadata": {},
   "source": [
    "## Variables"
   ]
  },
  {
   "cell_type": "code",
   "execution_count": 7,
   "metadata": {},
   "outputs": [
    {
     "name": "stdout",
     "output_type": "stream",
     "text": [
      "[1]\n",
      "[1, 2]\n"
     ]
    }
   ],
   "source": [
    "a = [1]\n",
    "b = a\n",
    "print(b) # [1]\n",
    "\n",
    "b.append(2)\n",
    "print(a) # [1,2]"
   ]
  },
  {
   "cell_type": "code",
   "execution_count": null,
   "metadata": {
    "pycharm": {
     "is_executing": true
    }
   },
   "outputs": [],
   "source": [
    "\n",
    "test = \"Hello\"\n",
    "\n",
    "print(test)\n",
    "\n",
    "test = 123\n",
    "\n",
    "print(test)"
   ]
  },
  {
   "cell_type": "code",
   "execution_count": 1,
   "metadata": {
    "pycharm": {
     "is_executing": true
    }
   },
   "outputs": [
    {
     "name": "stdout",
     "output_type": "stream",
     "text": [
      "3\n"
     ]
    }
   ],
   "source": [
    "test = \"3\"\n",
    "print(test) # 3 IT IS CLASSED AS AN INT\n",
    "\n",
    "test2 = str(\"3\")\n",
    "print(test2) # 3 IT IS CLASSED AS A STRING\n"
   ]
  },
  {
   "cell_type": "markdown",
   "metadata": {
    "pycharm": {
     "is_executing": true
    }
   },
   "source": [
    "## Data Structures"
   ]
  },
  {
   "cell_type": "code",
   "execution_count": 1,
   "metadata": {
    "pycharm": {
     "is_executing": true
    }
   },
   "outputs": [
    {
     "data": {
      "text/plain": [
       "[2, 5]"
      ]
     },
     "execution_count": 1,
     "metadata": {},
     "output_type": "execute_result"
    }
   ],
   "source": [
    "nested_tuple = (1,2,3),(4,5,6)\n",
    "\n",
    "# Cool loops\n",
    "[x[1] for x in nested_tuple]"
   ]
  },
  {
   "cell_type": "markdown",
   "metadata": {},
   "source": [
    "YOU CAN DO THE OBJECT ASSIGNING THINGY IN PYTHON"
   ]
  },
  {
   "cell_type": "code",
   "execution_count": 2,
   "metadata": {},
   "outputs": [
    {
     "name": "stdout",
     "output_type": "stream",
     "text": [
      "1 2 3\n"
     ]
    }
   ],
   "source": [
    "normal_tuple = 1,2,3\n",
    "a,b,c = normal_tuple\n",
    "print(a, b, c)"
   ]
  },
  {
   "cell_type": "code",
   "execution_count": 2,
   "metadata": {
    "pycharm": {
     "is_executing": true
    }
   },
   "outputs": [
    {
     "data": {
      "text/plain": [
       "[1, 2, 3, 4, 5, 7, 8, 9]"
      ]
     },
     "execution_count": 2,
     "metadata": {},
     "output_type": "execute_result"
    }
   ],
   "source": [
    "this_is_a_list = list([1,2,3,4,5])\n",
    "this_is_a_list.extend([7,8,9])\n",
    "this_is_a_list\n"
   ]
  },
  {
   "cell_type": "code",
   "execution_count": 3,
   "metadata": {},
   "outputs": [
    {
     "data": {
      "text/plain": [
       "[1, 2, 3, 4, 5]"
      ]
     },
     "execution_count": 3,
     "metadata": {},
     "output_type": "execute_result"
    }
   ],
   "source": [
    "a_tuple = (1,2,3,4,5)\n",
    "tuple_into_list = list(a_tuple)\n",
    "tuple_into_list"
   ]
  },
  {
   "cell_type": "code",
   "execution_count": 12,
   "metadata": {},
   "outputs": [
    {
     "data": {
      "text/plain": [
       "['an',\n",
       " 'in',\n",
       " 'As',\n",
       " 'if',\n",
       " 'on',\n",
       " 'an',\n",
       " 'in',\n",
       " 'by',\n",
       " 'On',\n",
       " 'my',\n",
       " 'on',\n",
       " 'my',\n",
       " 'on',\n",
       " 'the',\n",
       " 'The',\n",
       " 'day',\n",
       " 'the',\n",
       " 'sky',\n",
       " 'day',\n",
       " 'Like',\n",
       " 'echo',\n",
       " 'will',\n",
       " 'come',\n",
       " 'back',\n",
       " 'life',\n",
       " 'goes',\n",
       " 'Like',\n",
       " 'blue',\n",
       " 'life',\n",
       " 'goes',\n",
       " 'Like',\n",
       " 'this',\n",
       " 'Yeah,',\n",
       " 'arrow',\n",
       " 'table',\n",
       " 'Yeah,',\n",
       " 'again',\n",
       " 'forest',\n",
       " 'around',\n",
       " 'flying',\n",
       " 'nothing',\n",
       " 'Another',\n",
       " 'pillow,',\n",
       " 'happened']"
      ]
     },
     "execution_count": 12,
     "metadata": {},
     "output_type": "execute_result"
    }
   ],
   "source": [
    "string = \"\"\"Like an echo in the forest\n",
    "\n",
    "The day will come back around\n",
    "\n",
    "As if nothing happened\n",
    "\n",
    "Yeah, life goes on\n",
    "\n",
    "Like an arrow in the blue sky\n",
    "\n",
    "Another day flying by\n",
    "\n",
    "On my pillow, on my table\n",
    "\n",
    "Yeah, life goes on\n",
    "\n",
    "Like this again\"\"\"\n",
    "\n",
    "string_as_list = string.split()\n",
    "string_as_list.sort(key=len)\n",
    "string_as_list\n"
   ]
  },
  {
   "cell_type": "markdown",
   "metadata": {},
   "source": [
    "## Loops"
   ]
  },
  {
   "cell_type": "code",
   "execution_count": null,
   "metadata": {},
   "outputs": [],
   "source": [
    "i = 0\n",
    "while i < 10:\n",
    "    print(i)\n",
    "    i +=1"
   ]
  },
  {
   "cell_type": "code",
   "execution_count": null,
   "metadata": {},
   "outputs": [],
   "source": [
    "a_list = ['my','stomach','hurts']\n",
    "for x in a_list:\n",
    "    print(x)\n"
   ]
  },
  {
   "cell_type": "code",
   "execution_count": null,
   "metadata": {
    "pycharm": {
     "is_executing": true
    }
   },
   "outputs": [],
   "source": [
    "for x in range(0,11):\n",
    "    print(x)\n"
   ]
  }
 ],
 "metadata": {
  "kernelspec": {
   "display_name": "Python 3 (ipykernel)",
   "language": "python",
   "name": "python3"
  },
  "language_info": {
   "codemirror_mode": {
    "name": "ipython",
    "version": 3
   },
   "file_extension": ".py",
   "mimetype": "text/x-python",
   "name": "python",
   "nbconvert_exporter": "python",
   "pygments_lexer": "ipython3",
   "version": "3.10.7"
  }
 },
 "nbformat": 4,
 "nbformat_minor": 1
}
