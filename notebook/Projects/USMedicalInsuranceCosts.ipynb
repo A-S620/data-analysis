{
 "cells": [
  {
   "cell_type": "markdown",
   "metadata": {},
   "source": [
    "# U.S. Medical Insurance Costs\n",
    "## Aim\n",
    "The aim of this project is to explore the U.S. Medical Insurance Costs data set and understand how different factors impact the charges.\n",
    "## Project Goals\n",
    "The goals of this project are:\n",
    "- Determine the relationship between sex and charges\n",
    "- Determine the relationship between region and charges\n",
    "- Determine the relationship between BMI and charges"
   ]
  },
  {
   "cell_type": "markdown",
   "metadata": {},
   "source": [
    "## Analysis\n",
    "This section will analyse the data included in the data set."
   ]
  },
  {
   "cell_type": "code",
   "execution_count": 63,
   "metadata": {},
   "outputs": [
    {
     "name": "stdout",
     "output_type": "stream",
     "text": [
      "<class 'pandas.core.frame.DataFrame'>\n",
      "RangeIndex: 1338 entries, 0 to 1337\n",
      "Data columns (total 7 columns):\n",
      " #   Column    Non-Null Count  Dtype  \n",
      "---  ------    --------------  -----  \n",
      " 0   age       1338 non-null   int64  \n",
      " 1   sex       1338 non-null   object \n",
      " 2   bmi       1338 non-null   float64\n",
      " 3   children  1338 non-null   int64  \n",
      " 4   smoker    1338 non-null   object \n",
      " 5   region    1338 non-null   object \n",
      " 6   charges   1338 non-null   float64\n",
      "dtypes: float64(2), int64(2), object(3)\n",
      "memory usage: 73.3+ KB\n"
     ]
    }
   ],
   "source": [
    "import pandas as pd\n",
    "import matplotlib.pyplot as plt\n",
    "import numpy as np\n",
    "from IPython.display import display, HTML\n",
    "from shared.palette import palette\n",
    "from shared.MetricsHTML import style, metrics_html\n",
    "path = '../data/insurance.csv'\n",
    "\n",
    "df = pd.read_csv(path)\n",
    "\n",
    "df.info()"
   ]
  },
  {
   "cell_type": "code",
   "execution_count": 64,
   "metadata": {},
   "outputs": [
    {
     "data": {
      "text/html": [
       "<div>\n",
       "<style scoped>\n",
       "    .dataframe tbody tr th:only-of-type {\n",
       "        vertical-align: middle;\n",
       "    }\n",
       "\n",
       "    .dataframe tbody tr th {\n",
       "        vertical-align: top;\n",
       "    }\n",
       "\n",
       "    .dataframe thead th {\n",
       "        text-align: right;\n",
       "    }\n",
       "</style>\n",
       "<table border=\"1\" class=\"dataframe\">\n",
       "  <thead>\n",
       "    <tr style=\"text-align: right;\">\n",
       "      <th></th>\n",
       "      <th>age</th>\n",
       "      <th>sex</th>\n",
       "      <th>bmi</th>\n",
       "      <th>children</th>\n",
       "      <th>smoker</th>\n",
       "      <th>region</th>\n",
       "      <th>charges</th>\n",
       "    </tr>\n",
       "  </thead>\n",
       "  <tbody>\n",
       "    <tr>\n",
       "      <th>count</th>\n",
       "      <td>1338.000000</td>\n",
       "      <td>1338</td>\n",
       "      <td>1338.000000</td>\n",
       "      <td>1338.000000</td>\n",
       "      <td>1338</td>\n",
       "      <td>1338</td>\n",
       "      <td>1338.000000</td>\n",
       "    </tr>\n",
       "    <tr>\n",
       "      <th>unique</th>\n",
       "      <td>NaN</td>\n",
       "      <td>2</td>\n",
       "      <td>NaN</td>\n",
       "      <td>NaN</td>\n",
       "      <td>2</td>\n",
       "      <td>4</td>\n",
       "      <td>NaN</td>\n",
       "    </tr>\n",
       "    <tr>\n",
       "      <th>top</th>\n",
       "      <td>NaN</td>\n",
       "      <td>male</td>\n",
       "      <td>NaN</td>\n",
       "      <td>NaN</td>\n",
       "      <td>no</td>\n",
       "      <td>southeast</td>\n",
       "      <td>NaN</td>\n",
       "    </tr>\n",
       "    <tr>\n",
       "      <th>freq</th>\n",
       "      <td>NaN</td>\n",
       "      <td>676</td>\n",
       "      <td>NaN</td>\n",
       "      <td>NaN</td>\n",
       "      <td>1064</td>\n",
       "      <td>364</td>\n",
       "      <td>NaN</td>\n",
       "    </tr>\n",
       "    <tr>\n",
       "      <th>mean</th>\n",
       "      <td>39.207025</td>\n",
       "      <td>NaN</td>\n",
       "      <td>30.663397</td>\n",
       "      <td>1.094918</td>\n",
       "      <td>NaN</td>\n",
       "      <td>NaN</td>\n",
       "      <td>13270.422265</td>\n",
       "    </tr>\n",
       "    <tr>\n",
       "      <th>std</th>\n",
       "      <td>14.049960</td>\n",
       "      <td>NaN</td>\n",
       "      <td>6.098187</td>\n",
       "      <td>1.205493</td>\n",
       "      <td>NaN</td>\n",
       "      <td>NaN</td>\n",
       "      <td>12110.011237</td>\n",
       "    </tr>\n",
       "    <tr>\n",
       "      <th>min</th>\n",
       "      <td>18.000000</td>\n",
       "      <td>NaN</td>\n",
       "      <td>15.960000</td>\n",
       "      <td>0.000000</td>\n",
       "      <td>NaN</td>\n",
       "      <td>NaN</td>\n",
       "      <td>1121.873900</td>\n",
       "    </tr>\n",
       "    <tr>\n",
       "      <th>25%</th>\n",
       "      <td>27.000000</td>\n",
       "      <td>NaN</td>\n",
       "      <td>26.296250</td>\n",
       "      <td>0.000000</td>\n",
       "      <td>NaN</td>\n",
       "      <td>NaN</td>\n",
       "      <td>4740.287150</td>\n",
       "    </tr>\n",
       "    <tr>\n",
       "      <th>50%</th>\n",
       "      <td>39.000000</td>\n",
       "      <td>NaN</td>\n",
       "      <td>30.400000</td>\n",
       "      <td>1.000000</td>\n",
       "      <td>NaN</td>\n",
       "      <td>NaN</td>\n",
       "      <td>9382.033000</td>\n",
       "    </tr>\n",
       "    <tr>\n",
       "      <th>75%</th>\n",
       "      <td>51.000000</td>\n",
       "      <td>NaN</td>\n",
       "      <td>34.693750</td>\n",
       "      <td>2.000000</td>\n",
       "      <td>NaN</td>\n",
       "      <td>NaN</td>\n",
       "      <td>16639.912515</td>\n",
       "    </tr>\n",
       "    <tr>\n",
       "      <th>max</th>\n",
       "      <td>64.000000</td>\n",
       "      <td>NaN</td>\n",
       "      <td>53.130000</td>\n",
       "      <td>5.000000</td>\n",
       "      <td>NaN</td>\n",
       "      <td>NaN</td>\n",
       "      <td>63770.428010</td>\n",
       "    </tr>\n",
       "  </tbody>\n",
       "</table>\n",
       "</div>"
      ],
      "text/plain": [
       "                age   sex          bmi     children smoker     region  \\\n",
       "count   1338.000000  1338  1338.000000  1338.000000   1338       1338   \n",
       "unique          NaN     2          NaN          NaN      2          4   \n",
       "top             NaN  male          NaN          NaN     no  southeast   \n",
       "freq            NaN   676          NaN          NaN   1064        364   \n",
       "mean      39.207025   NaN    30.663397     1.094918    NaN        NaN   \n",
       "std       14.049960   NaN     6.098187     1.205493    NaN        NaN   \n",
       "min       18.000000   NaN    15.960000     0.000000    NaN        NaN   \n",
       "25%       27.000000   NaN    26.296250     0.000000    NaN        NaN   \n",
       "50%       39.000000   NaN    30.400000     1.000000    NaN        NaN   \n",
       "75%       51.000000   NaN    34.693750     2.000000    NaN        NaN   \n",
       "max       64.000000   NaN    53.130000     5.000000    NaN        NaN   \n",
       "\n",
       "             charges  \n",
       "count    1338.000000  \n",
       "unique           NaN  \n",
       "top              NaN  \n",
       "freq             NaN  \n",
       "mean    13270.422265  \n",
       "std     12110.011237  \n",
       "min      1121.873900  \n",
       "25%      4740.287150  \n",
       "50%      9382.033000  \n",
       "75%     16639.912515  \n",
       "max     63770.428010  "
      ]
     },
     "execution_count": 64,
     "metadata": {},
     "output_type": "execute_result"
    }
   ],
   "source": [
    "df.describe(include='all')"
   ]
  },
  {
   "cell_type": "markdown",
   "metadata": {},
   "source": [
    "\n",
    "### Data"
   ]
  },
  {
   "cell_type": "markdown",
   "metadata": {},
   "source": [
    "### Sex and charges\n",
    "This section explores the relationship between sex and charges in the dataset.\n",
    "\n",
    "#### Date Representation\n",
    "This section aims to compare the number of records where the sex is male versus female.\n",
    "\n",
    "Though the dataset has an almost equal split of male and female records, there are `1%` more records where the sex is female versus male:\n",
    "- There are 676 records where the sex is male\n",
    "- There are 662 records where the sex is female\n",
    "\n",
    "The bar chart below shows the count of records where the value was either male or female in the sex column."
   ]
  },
  {
   "cell_type": "code",
   "execution_count": 65,
   "metadata": {},
   "outputs": [
    {
     "data": {
      "image/png": "[encoded data removed]",
      "text/plain": [
       "<Figure size 640x480 with 1 Axes>"
      ]
     },
     "metadata": {},
     "output_type": "display_data"
    }
   ],
   "source": [
    "sex_and_charges = df[['sex', 'charges']]\n",
    "sex_data = sex_and_charges['sex'].value_counts()\n",
    "sex_plot = sex_data.plot.bar(x='sex', color=palette[\"Pink Lace\"], title='The Count of Male vs Female records in the dataset', xlabel='Sex', ylabel='Count');\n",
    "labels = sex_plot.bar_label(sex_plot.containers[0])"
   ]
  },
  {
   "cell_type": "markdown",
   "metadata": {},
   "source": [
    "#### What's the average charge per sex?\n",
    "This section aims to determine the average charge per sex.\n",
    "\n",
    "##### Average charge for Females versus Males"
   ]
  },
  {
   "cell_type": "code",
   "execution_count": 66,
   "metadata": {},
   "outputs": [
    {
     "data": {
      "text/html": [
       "\n",
       "<style> \n",
       "#metrics {\n",
       "    width: 95%;\n",
       "    margin: 20px auto;\n",
       "    font-family: arial, sans-serif;\n",
       "    display: flex;\n",
       "    flex-direction: column;\n",
       "    text-align: center;\n",
       "}\n",
       "h1 {\n",
       "    font-size: 2em;\n",
       "    font-weight: 400;\n",
       "    margin: 20px auto;\n",
       "    color: ##32292f;\n",
       "}\n",
       "h2 {\n",
       "    font-size: 1.5em;\n",
       "    font-weight: 400;\n",
       "    color: #32292f;\n",
       "}\n",
       "h3 {\n",
       "    font-size: 1.2em;\n",
       "    font-weight: 400;\n",
       "    color: #32292f;\n",
       "}\n",
       ".metrics-display {\n",
       "    display: flex;\n",
       "    flex-direction: row;\n",
       "    justify-content: center;\n",
       "}\n",
       ".metric-box {\n",
       "    margin: 0 auto;\n",
       "    background-color: #99e1d9;\n",
       "    border-radius: 15px 50px 30px;\n",
       "    padding: 20px;\n",
       "    margin: 10px 10px 10px 10px;\n",
       "    text-align: center;\n",
       "    width: 200px;\n",
       "    height: 150px;\n",
       "}\n",
       "</style>\n",
       "<div id=\"metrics\">\n",
       "<h1>Average Charge for Females vs Males</h1>\n",
       "<div class=\"metrics-display\">\n",
       "<div>\n",
       "    <div class=\"metric-box\">\n",
       "        <h3 class=\"sub-text\">Female Charges</h3>\n",
       "        <h2 class=\"head\">$12569.58</h2>\n",
       "    </div>  \n",
       "</div>\n",
       "\n",
       "<div>\n",
       "    <div class=\"metric-box\">\n",
       "        <h3 class=\"sub-text\">Male Charges</h3>\n",
       "        <h2 class=\"head\">$13956.75</h2>\n",
       "    </div>  \n",
       "</div>\n",
       "</div></div> "
      ],
      "text/plain": [
       "<IPython.core.display.HTML object>"
      ]
     },
     "metadata": {},
     "output_type": "display_data"
    }
   ],
   "source": [
    "female_charges_display = '$' + format(sex_and_charges.query(\"sex == 'female'\")['charges'].mean(), '.2F')\n",
    "male_charges_display = '$' + format(sex_and_charges.query(\"sex == 'male'\")['charges'].mean(), '.2F')\n",
    "\n",
    "metrics = [{'title': 'Female Charges', 'metric': female_charges_display}, {'title': 'Male Charges', 'metric': male_charges_display}]\n",
    "display(HTML(metrics_html('Average Charge for Females vs Males', metrics)))"
   ]
  },
  {
   "cell_type": "markdown",
   "metadata": {},
   "source": [
    "### Region and charges\n",
    "This section explores the relationship between region and charges in the dataset.\n",
    "#### Date Representation\n",
    "This section aims to compare the number of records for each region.\n",
    "\n",
    "Though the dataset has an almost equal split between region, the Southeast has the most records:\n",
    "- There are 364 records for Southeast\n",
    "- There are 325 records for Southwest\n",
    "- There are 325 records for Northwest\n",
    "- There are 324 record for Northeast\n",
    "The bar chart below shows the count of records for each region."
   ]
  },
  {
   "cell_type": "code",
   "execution_count": 67,
   "metadata": {},
   "outputs": [
    {
     "data": {
      "image/png": "[encoded data removed]",
      "text/plain": [
       "<Figure size 640x480 with 1 Axes>"
      ]
     },
     "metadata": {},
     "output_type": "display_data"
    }
   ],
   "source": [
    "region_and_charges = df[['region', 'charges']]\n",
    "region_data = region_and_charges['region'].value_counts()\n",
    "region_plot = region_data.plot.bar(x='region', color=palette[\"Pink Lace\"], title='The Count of records in the dataset for each region', xlabel='Region', ylabel='Count')\n",
    "labels = region_plot.bar_label(region_plot.containers[0])\n"
   ]
  },
  {
   "cell_type": "markdown",
   "metadata": {},
   "source": [
    "#### What's the average charge per region?\n",
    "This section aims to determine the average charge per region.\n",
    "\n",
    "##### Average charge per region\n"
   ]
  },
  {
   "cell_type": "code",
   "execution_count": 68,
   "metadata": {},
   "outputs": [
    {
     "data": {
      "text/html": [
       "\n",
       "<style> \n",
       "#metrics {\n",
       "    width: 95%;\n",
       "    margin: 20px auto;\n",
       "    font-family: arial, sans-serif;\n",
       "    display: flex;\n",
       "    flex-direction: column;\n",
       "    text-align: center;\n",
       "}\n",
       "h1 {\n",
       "    font-size: 2em;\n",
       "    font-weight: 400;\n",
       "    margin: 20px auto;\n",
       "    color: ##32292f;\n",
       "}\n",
       "h2 {\n",
       "    font-size: 1.5em;\n",
       "    font-weight: 400;\n",
       "    color: #32292f;\n",
       "}\n",
       "h3 {\n",
       "    font-size: 1.2em;\n",
       "    font-weight: 400;\n",
       "    color: #32292f;\n",
       "}\n",
       ".metrics-display {\n",
       "    display: flex;\n",
       "    flex-direction: row;\n",
       "    justify-content: center;\n",
       "}\n",
       ".metric-box {\n",
       "    margin: 0 auto;\n",
       "    background-color: #99e1d9;\n",
       "    border-radius: 15px 50px 30px;\n",
       "    padding: 20px;\n",
       "    margin: 10px 10px 10px 10px;\n",
       "    text-align: center;\n",
       "    width: 200px;\n",
       "    height: 150px;\n",
       "}\n",
       "</style>\n",
       "<div id=\"metrics\">\n",
       "<h1>Average Charge per Region</h1>\n",
       "<div class=\"metrics-display\">\n",
       "<div>\n",
       "    <div class=\"metric-box\">\n",
       "        <h3 class=\"sub-text\">Northeast</h3>\n",
       "        <h2 class=\"head\">$13406.38</h2>\n",
       "    </div>  \n",
       "</div>\n",
       "\n",
       "<div>\n",
       "    <div class=\"metric-box\">\n",
       "        <h3 class=\"sub-text\">Northwest</h3>\n",
       "        <h2 class=\"head\">$12417.58</h2>\n",
       "    </div>  \n",
       "</div>\n",
       "\n",
       "<div>\n",
       "    <div class=\"metric-box\">\n",
       "        <h3 class=\"sub-text\">Southeast</h3>\n",
       "        <h2 class=\"head\">$14735.41</h2>\n",
       "    </div>  \n",
       "</div>\n",
       "\n",
       "<div>\n",
       "    <div class=\"metric-box\">\n",
       "        <h3 class=\"sub-text\">Southwest</h3>\n",
       "        <h2 class=\"head\">$12346.94</h2>\n",
       "    </div>  \n",
       "</div>\n",
       "</div></div> "
      ],
      "text/plain": [
       "<IPython.core.display.HTML object>"
      ]
     },
     "metadata": {},
     "output_type": "display_data"
    }
   ],
   "source": [
    "metrics = []\n",
    "region_and_charges_means = region_and_charges.groupby('region').mean()\n",
    "\n",
    "for row_index, row in region_and_charges_means.iterrows():\n",
    "    metrics.append({'title': row_index.capitalize(), 'metric': '$' + format(row['charges'], '.2F')})\n",
    "display(HTML(metrics_html('Average Charge per Region', metrics)))"
   ]
  },
  {
   "cell_type": "markdown",
   "metadata": {},
   "source": [
    "### BMI and charges\n",
    "This section explores the relationship between BMI and charges in the dataset.\n",
    "#### Date Representation\n",
    "This section aims to compare the number of records for each BMI.\n",
    "The data set has:\n",
    "- The least amount of records for the BMI interval of 50 to 55\n",
    "- Tme most amount of records for the BMI interval of 30 to 35\n",
    "\n",
    "The histogram chart below shows the count of records for each BMI interval."
   ]
  },
  {
   "cell_type": "code",
   "execution_count": 69,
   "metadata": {},
   "outputs": [
    {
     "data": {
      "image/png": "[encoded data removed]",
      "text/plain": [
       "<Figure size 640x480 with 1 Axes>"
      ]
     },
     "metadata": {},
     "output_type": "display_data"
    }
   ],
   "source": [
    "bmi_and_charges = df[['bmi', 'charges']]\n",
    "values, bins, bars = plt.hist(df['bmi'], edgecolor='white', color=palette[\"Pink Lace\"], bins=[15,20,25,30,35,40,45,50,55])\n",
    "plt.xlabel(\"BMI\")\n",
    "plt.ylabel(\"Frequency\")\n",
    "plt.bar_label(bars, fontsize=15, color=palette[\"Black Coffee\"])\n",
    "plt.margins(x=0.01, y=0.1)\n",
    "plt.title(label=\"BMI Distribution in the dataset\")\n",
    "plt.show()"
   ]
  },
  {
   "cell_type": "markdown",
   "metadata": {},
   "source": [
    "#### What's the average charge per BMI interval?\n",
    "This section aims to determine the average charge per BMI interval.\n",
    "\n",
    "##### Average charge per BMI interval"
   ]
  },
  {
   "cell_type": "code",
   "execution_count": 71,
   "metadata": {},
   "outputs": [
    {
     "data": {
      "text/html": [
       "<div>\n",
       "<style scoped>\n",
       "    .dataframe tbody tr th:only-of-type {\n",
       "        vertical-align: middle;\n",
       "    }\n",
       "\n",
       "    .dataframe tbody tr th {\n",
       "        vertical-align: top;\n",
       "    }\n",
       "\n",
       "    .dataframe thead th {\n",
       "        text-align: right;\n",
       "    }\n",
       "</style>\n",
       "<table border=\"1\" class=\"dataframe\">\n",
       "  <thead>\n",
       "    <tr style=\"text-align: right;\">\n",
       "      <th></th>\n",
       "      <th>charges</th>\n",
       "    </tr>\n",
       "  </thead>\n",
       "  <tbody>\n",
       "    <tr>\n",
       "      <th>(15, 20]</th>\n",
       "      <td>14772.24</td>\n",
       "    </tr>\n",
       "    <tr>\n",
       "      <th>(20, 25]</th>\n",
       "      <td>12638.73</td>\n",
       "    </tr>\n",
       "    <tr>\n",
       "      <th>(25, 30]</th>\n",
       "      <td>20758.45</td>\n",
       "    </tr>\n",
       "    <tr>\n",
       "      <th>(30, 35]</th>\n",
       "      <td>14695.22</td>\n",
       "    </tr>\n",
       "    <tr>\n",
       "      <th>(35, 40]</th>\n",
       "      <td>21781.64</td>\n",
       "    </tr>\n",
       "    <tr>\n",
       "      <th>(40, 45]</th>\n",
       "      <td>8849.19</td>\n",
       "    </tr>\n",
       "    <tr>\n",
       "      <th>(45, 50]</th>\n",
       "      <td>12100.10</td>\n",
       "    </tr>\n",
       "    <tr>\n",
       "      <th>(50, 55]</th>\n",
       "      <td>24089.37</td>\n",
       "    </tr>\n",
       "  </tbody>\n",
       "</table>\n",
       "</div>"
      ],
      "text/plain": [
       "           charges\n",
       "(15, 20]  14772.24\n",
       "(20, 25]  12638.73\n",
       "(25, 30]  20758.45\n",
       "(30, 35]  14695.22\n",
       "(35, 40]  21781.64\n",
       "(40, 45]   8849.19\n",
       "(45, 50]  12100.10\n",
       "(50, 55]  24089.37"
      ]
     },
     "execution_count": 71,
     "metadata": {},
     "output_type": "execute_result"
    }
   ],
   "source": [
    "bmi_and_charges.set_index('bmi')\n",
    "bmi_as_bins = pd.cut(bmi_and_charges.index, bins=[15,20,25,30,35,40,45,50,55])\n",
    "bmi_and_charges_means = bmi_and_charges.groupby(bmi_as_bins).mean()\n",
    "bmi_and_charges_means['charges'] = bmi_and_charges_means['charges'].apply(lambda x: round(x, 2))\n",
    "bmi_and_charges_means[['charges']]"
   ]
  },
  {
   "cell_type": "code",
   "execution_count": null,
   "metadata": {},
   "outputs": [],
   "source": []
  }
 ],
 "metadata": {
  "kernelspec": {
   "display_name": "Python 3 (ipykernel)",
   "language": "python",
   "name": "python3"
  },
  "language_info": {
   "codemirror_mode": {
    "name": "ipython",
    "version": 3
   },
   "file_extension": ".py",
   "mimetype": "text/x-python",
   "name": "python",
   "nbconvert_exporter": "python",
   "pygments_lexer": "ipython3",
   "version": "3.10.7"
  }
 },
 "nbformat": 4,
 "nbformat_minor": 4
}